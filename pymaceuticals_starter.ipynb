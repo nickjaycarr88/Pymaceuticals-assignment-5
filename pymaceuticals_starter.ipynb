{
 "cells": [
  {
   "cell_type": "markdown",
   "metadata": {},
   "source": [
    "## Observations and Insights "
   ]
  },
  {
   "cell_type": "markdown",
   "metadata": {},
   "source": []
  },
  {
   "cell_type": "markdown",
   "metadata": {},
   "source": [
    "findings:"
   ]
  },
  {
   "cell_type": "markdown",
   "metadata": {},
   "source": [
    "1-I analysed the data from a randomly selected mouse, comparing the tumour volume against the timepoint. It was clear that over time, the tumour volume increased at an relatively steady rate."
   ]
  },
  {
   "cell_type": "markdown",
   "metadata": {},
   "source": [
    "2-When performing the correlation between weight and volume for mice using the Capomulin drug, it returned a correlation of 0.53. This figure just falls into the category of having moderate strength. "
   ]
  },
  {
   "cell_type": "markdown",
   "metadata": {},
   "source": [
    "3-The drugs used on the mice were not evenly spread. There seems to be a big variance between the drug used on the most number of mice, in comparison to the drug used on the least amount of mice. I feel this uneven spread of the drugs used may not give accurate data.  "
   ]
  },
  {
   "cell_type": "code",
   "execution_count": 1,
   "metadata": {},
   "outputs": [],
   "source": [
    "# Dependencies and Setup\n",
    "import matplotlib.pyplot as plt\n",
    "import pandas as pd\n",
    "import scipy.stats as st\n",
    "import numpy as np\n",
    "# Study data files\n",
    "mouse_metadata_path = \"data/Mouse_metadata.csv\"\n",
    "study_results_path = \"data/Study_results.csv\"\n",
    "\n",
    "# Read the mouse data and the study results\n",
    "mouse_metadata = pd.read_csv(mouse_metadata_path)\n",
    "study_results = pd.read_csv(study_results_path)\n",
    "\n",
    "# Combine the data into a single dataset\n",
    "combined_mouse_and_study_df = pd.merge(mouse_metadata, study_results, how = \"outer\", on=\"Mouse ID\")\n",
    "\n"
   ]
  },
  {
   "cell_type": "code",
   "execution_count": 2,
   "metadata": {},
   "outputs": [
    {
     "data": {
      "text/plain": [
       "Mouse ID                249\n",
       "Drug Regimen             10\n",
       "Sex                       2\n",
       "Age_months               24\n",
       "Weight (g)               16\n",
       "Timepoint                10\n",
       "Tumour Volume (mm3)    1644\n",
       "Metastatic Sites          5\n",
       "dtype: int64"
      ]
     },
     "execution_count": 2,
     "metadata": {},
     "output_type": "execute_result"
    }
   ],
   "source": [
    "# Checking the number of mice.\n",
    "combined_mouse_and_study_df.nunique()"
   ]
  },
  {
   "cell_type": "code",
   "execution_count": 3,
   "metadata": {},
   "outputs": [
    {
     "data": {
      "text/plain": [
       "5"
      ]
     },
     "execution_count": 3,
     "metadata": {},
     "output_type": "execute_result"
    }
   ],
   "source": [
    "# Getting the duplicate mice by ID number that shows up for Mouse ID and Timepoint. \n",
    "combined_mouse_and_study_df.duplicated(subset=[\"Mouse ID\", \"Timepoint\"]).sum()\n"
   ]
  },
  {
   "cell_type": "code",
   "execution_count": 4,
   "metadata": {},
   "outputs": [
    {
     "data": {
      "text/html": [
       "<div>\n",
       "<style scoped>\n",
       "    .dataframe tbody tr th:only-of-type {\n",
       "        vertical-align: middle;\n",
       "    }\n",
       "\n",
       "    .dataframe tbody tr th {\n",
       "        vertical-align: top;\n",
       "    }\n",
       "\n",
       "    .dataframe thead th {\n",
       "        text-align: right;\n",
       "    }\n",
       "</style>\n",
       "<table border=\"1\" class=\"dataframe\">\n",
       "  <thead>\n",
       "    <tr style=\"text-align: right;\">\n",
       "      <th></th>\n",
       "      <th>Mouse ID</th>\n",
       "      <th>Drug Regimen</th>\n",
       "      <th>Sex</th>\n",
       "      <th>Age_months</th>\n",
       "      <th>Weight (g)</th>\n",
       "      <th>Timepoint</th>\n",
       "      <th>Tumour Volume (mm3)</th>\n",
       "      <th>Metastatic Sites</th>\n",
       "    </tr>\n",
       "  </thead>\n",
       "  <tbody>\n",
       "    <tr>\n",
       "      <th>909</th>\n",
       "      <td>g989</td>\n",
       "      <td>Propriva</td>\n",
       "      <td>Female</td>\n",
       "      <td>21</td>\n",
       "      <td>26</td>\n",
       "      <td>0</td>\n",
       "      <td>45.000000</td>\n",
       "      <td>0</td>\n",
       "    </tr>\n",
       "    <tr>\n",
       "      <th>911</th>\n",
       "      <td>g989</td>\n",
       "      <td>Propriva</td>\n",
       "      <td>Female</td>\n",
       "      <td>21</td>\n",
       "      <td>26</td>\n",
       "      <td>5</td>\n",
       "      <td>47.570392</td>\n",
       "      <td>0</td>\n",
       "    </tr>\n",
       "    <tr>\n",
       "      <th>913</th>\n",
       "      <td>g989</td>\n",
       "      <td>Propriva</td>\n",
       "      <td>Female</td>\n",
       "      <td>21</td>\n",
       "      <td>26</td>\n",
       "      <td>10</td>\n",
       "      <td>49.880528</td>\n",
       "      <td>0</td>\n",
       "    </tr>\n",
       "    <tr>\n",
       "      <th>915</th>\n",
       "      <td>g989</td>\n",
       "      <td>Propriva</td>\n",
       "      <td>Female</td>\n",
       "      <td>21</td>\n",
       "      <td>26</td>\n",
       "      <td>15</td>\n",
       "      <td>53.442020</td>\n",
       "      <td>0</td>\n",
       "    </tr>\n",
       "    <tr>\n",
       "      <th>917</th>\n",
       "      <td>g989</td>\n",
       "      <td>Propriva</td>\n",
       "      <td>Female</td>\n",
       "      <td>21</td>\n",
       "      <td>26</td>\n",
       "      <td>20</td>\n",
       "      <td>54.657650</td>\n",
       "      <td>1</td>\n",
       "    </tr>\n",
       "  </tbody>\n",
       "</table>\n",
       "</div>"
      ],
      "text/plain": [
       "    Mouse ID Drug Regimen     Sex  Age_months  Weight (g)  Timepoint  \\\n",
       "909     g989     Propriva  Female          21          26          0   \n",
       "911     g989     Propriva  Female          21          26          5   \n",
       "913     g989     Propriva  Female          21          26         10   \n",
       "915     g989     Propriva  Female          21          26         15   \n",
       "917     g989     Propriva  Female          21          26         20   \n",
       "\n",
       "     Tumour Volume (mm3)  Metastatic Sites  \n",
       "909            45.000000                 0  \n",
       "911            47.570392                 0  \n",
       "913            49.880528                 0  \n",
       "915            53.442020                 0  \n",
       "917            54.657650                 1  "
      ]
     },
     "execution_count": 4,
     "metadata": {},
     "output_type": "execute_result"
    }
   ],
   "source": [
    "# Optional: Get all the data for the duplicate mouse ID. \n",
    "\n",
    "combined_mouse_and_study_df.loc[combined_mouse_and_study_df.duplicated(subset=[\"Mouse ID\", \"Timepoint\"]), :]"
   ]
  },
  {
   "cell_type": "code",
   "execution_count": 5,
   "metadata": {},
   "outputs": [],
   "source": [
    "# Create a clean DataFrame by dropping the duplicate mouse by its ID.\n",
    "combined_mouse_and_study_df = combined_mouse_and_study_df.drop_duplicates(subset=[\"Mouse ID\", \"Timepoint\"])\n",
    "combined_mouse_and_study_df = combined_mouse_and_study_df.reset_index()"
   ]
  },
  {
   "cell_type": "code",
   "execution_count": 6,
   "metadata": {},
   "outputs": [
    {
     "data": {
      "text/plain": [
       "index                  1888\n",
       "Mouse ID               1888\n",
       "Drug Regimen           1888\n",
       "Sex                    1888\n",
       "Age_months             1888\n",
       "Weight (g)             1888\n",
       "Timepoint              1888\n",
       "Tumour Volume (mm3)    1888\n",
       "Metastatic Sites       1888\n",
       "dtype: int64"
      ]
     },
     "execution_count": 6,
     "metadata": {},
     "output_type": "execute_result"
    }
   ],
   "source": [
    "# Checking the number of mice in the clean DataFrame.\n",
    "combined_mouse_and_study_df.count()"
   ]
  },
  {
   "cell_type": "markdown",
   "metadata": {},
   "source": [
    "## Summary Statistics"
   ]
  },
  {
   "cell_type": "code",
   "execution_count": 7,
   "metadata": {},
   "outputs": [
    {
     "data": {
      "text/plain": [
       "Drug Regimen\n",
       "Capomulin    40.675741\n",
       "Ceftamin     52.591172\n",
       "Infubinol    52.884795\n",
       "Ketapril     55.235638\n",
       "Naftisol     54.331565\n",
       "Placebo      54.033581\n",
       "Propriva     52.393463\n",
       "Ramicane     40.216745\n",
       "Stelasyn     54.233149\n",
       "Zoniferol    53.236507\n",
       "Name: Tumour Volume (mm3), dtype: float64"
      ]
     },
     "execution_count": 7,
     "metadata": {},
     "output_type": "execute_result"
    }
   ],
   "source": [
    "# Generate a summary statistics table of mean, median, variance, standard deviation, and SEM of the tumour volume for each regimen\n",
    "\n",
    "# Use groupby and summary statistical methods to calculate the following properties of each drug regimen: \n",
    "# mean, median, variance, standard deviation, and SEM of the tumour volume. \n",
    "# Assemble the resulting series into a single summary dataframe.\n",
    "mean_table = combined_mouse_and_study_df.groupby(\"Drug Regimen\")[\"Tumour Volume (mm3)\"].mean()\n",
    "median_table = combined_mouse_and_study_df.groupby(\"Drug Regimen\")[\"Tumour Volume (mm3)\"].median()\n",
    "var_table = combined_mouse_and_study_df.groupby(\"Drug Regimen\")[\"Tumour Volume (mm3)\"].var()\n",
    "std_table = combined_mouse_and_study_df.groupby(\"Drug Regimen\")[\"Tumour Volume (mm3)\"].std()\n",
    "sem_table = combined_mouse_and_study_df.groupby(\"Drug Regimen\")[\"Tumour Volume (mm3)\"].sem()\n",
    "\n",
    "mean_table\n"
   ]
  },
  {
   "cell_type": "code",
   "execution_count": 8,
   "metadata": {},
   "outputs": [],
   "source": [
    "# Generate a summary statistics table of mean, median, variance, standard deviation, and SEM of the tumour volume for each regimen\n",
    "\n",
    "combined_mouse_and_study_df_groupby_regimen = pd.DataFrame({\n",
    "    \"Tumour Volume mean\": mean_table,\n",
    "    \"Tumour Volume median\": median_table,\n",
    "    \"Tumour Volume variance\":var_table,\n",
    "    \"Tumour Volume std\": std_table,\n",
    "    \"Tumour Volume SEM\": sem_table\n",
    "})\n",
    "combined_mouse_and_study_df_groupby_regimen\n",
    "# Using the aggregation method, produce the same summary statistics in a single line\n",
    "agg_groupby = combined_mouse_and_study_df.groupby(\"Drug Regimen\").agg({\"Tumour Volume (mm3)\": [\"mean\", \"median\", \"var\", \"std\", \"sem\"]})\n"
   ]
  },
  {
   "cell_type": "markdown",
   "metadata": {},
   "source": [
    "## Bar and Pie Charts"
   ]
  },
  {
   "cell_type": "code",
   "execution_count": 9,
   "metadata": {},
   "outputs": [
    {
     "data": {
      "text/plain": [
       "Text(0, 0.5, 'Numbers of mice')"
      ]
     },
     "execution_count": 9,
     "metadata": {},
     "output_type": "execute_result"
    },
    {
     "data": {
      "image/png": "[encoded data removed]",
      "text/plain": [
       "<Figure size 432x288 with 1 Axes>"
      ]
     },
     "metadata": {
      "needs_background": "light"
     },
     "output_type": "display_data"
    }
   ],
   "source": [
    "# Generate a bar plot showing the total number of timepoints for all mice tested for each drug regimen using Pandas.\n",
    "timepoint_count_drug_regimen_count = combined_mouse_and_study_df.groupby(\"Drug Regimen\")[\"Sex\"].count()\n",
    "timepoint_count_drug_regimen_count_df = pd.DataFrame ({\n",
    "    \"Amount of mice in study\" : timepoint_count_drug_regimen_count\n",
    "})\n",
    "timepoint_count_drug_regimen_count_df\n",
    "\n",
    "pandas_bar_chart = timepoint_count_drug_regimen_count_df.plot.bar(width=0.9)\n",
    "pandas_bar_chart.set_title(\"Number of timepoints for all mice tested\")\n",
    "pandas_bar_chart.set_xlabel(\"Drug regimen\")\n",
    "pandas_bar_chart.set_ylabel(\"Numbers of mice\")\n",
    "\n"
   ]
  },
  {
   "cell_type": "code",
   "execution_count": 10,
   "metadata": {},
   "outputs": [
    {
     "data": {
      "image/png": "[encoded data removed]",
      "text/plain": [
       "<Figure size 432x288 with 1 Axes>"
      ]
     },
     "metadata": {
      "needs_background": "light"
     },
     "output_type": "display_data"
    }
   ],
   "source": [
    "# Generate a bar plot showing the total number of timepoints for all mice tested for each drug regimen using pyplot.\n",
    "amount_of_mice = timepoint_count_drug_regimen_count_df[\"Amount of mice in study\"]\n",
    "\n",
    "\n",
    "x_axis = np.arange(len(amount_of_mice))\n",
    "tick_locations = [value for value in x_axis]\n",
    "plt.xticks(tick_locations, [\"Capomulin\", \"Ceftamin\", \"Infubinol\", \"Ketapril\", \"Naftisol\", \"Placebo\", \"Propriva\", \"Ramicane\", \"Stelasyn\", \"Zoniferol\"])\n",
    "plt.bar(x_axis, amount_of_mice, color = \"r\", alpha = 0.5, align = \"center\", width=0.9 )\n",
    "plt.xlim(-1, len(x_axis)-0.25)\n",
    "plt.ylim(0, max(amount_of_mice)+50)\n",
    "plt.xlabel(\"Drugs being tested\")\n",
    "plt.ylabel(\"Number of timepoints\")\n",
    "# plt.title(\"Number of timepoints for all mice tested\")\n",
    "plt.show()"
   ]
  },
  {
   "cell_type": "code",
   "execution_count": 11,
   "metadata": {},
   "outputs": [
    {
     "data": {
      "text/plain": [
       "<function matplotlib.pyplot.show(*args, **kw)>"
      ]
     },
     "execution_count": 11,
     "metadata": {},
     "output_type": "execute_result"
    },
    {
     "data": {
      "image/png": "[encoded data removed]",
      "text/plain": [
       "<Figure size 432x288 with 1 Axes>"
      ]
     },
     "metadata": {},
     "output_type": "display_data"
    }
   ],
   "source": [
    "# Generate a pie plot showing the distribution of female versus male mice using Pandas\n",
    "male_v_female = combined_mouse_and_study_df.groupby(\"Sex\").count()\n",
    "male_v_female\n",
    "female_numbers = male_v_female.iat[0,0]\n",
    "\n",
    "male_numbers = male_v_female.iat[1,0]\n",
    "size=[female_numbers, male_numbers]\n",
    "\n",
    "male_v_female[\"Mouse ID\"]\n",
    "labels = [\"Female\", \"Male\"]\n",
    "colours = [\"red\", \"blue\"]\n",
    "plt.pie(size, labels=labels, colors=colours, autopct=\"%1.1f%%\", startangle=140)\n",
    "# plt.title(\"Amount of male and female mice\")\n",
    "plt.show"
   ]
  },
  {
   "cell_type": "code",
   "execution_count": 12,
   "metadata": {},
   "outputs": [
    {
     "data": {
      "image/png": "[encoded data removed]",
      "text/plain": [
       "<Figure size 432x288 with 1 Axes>"
      ]
     },
     "metadata": {},
     "output_type": "display_data"
    }
   ],
   "source": [
    "# Generate a pie plot showing the distribution of female versus male mice using pyplot\n",
    "\n",
    "colours =[\"red\", \"blue\"]\n",
    "labels = [\"Femal\", \"Male\"]\n",
    "male_v_female_pandas = pd.DataFrame({female_numbers, male_numbers})\n",
    "plot = male_v_female_pandas.plot.pie(subplots=True, colors=colours, autopct='%1.0f%%', labels=labels, title = \"Amount of male and female mice\" )"
   ]
  },
  {
   "cell_type": "markdown",
   "metadata": {},
   "source": [
    "## Quartiles, Outliers and Boxplots"
   ]
  },
  {
   "cell_type": "code",
   "execution_count": 13,
   "metadata": {},
   "outputs": [
    {
     "data": {
      "text/html": [
       "<div>\n",
       "<style scoped>\n",
       "    .dataframe tbody tr th:only-of-type {\n",
       "        vertical-align: middle;\n",
       "    }\n",
       "\n",
       "    .dataframe tbody tr th {\n",
       "        vertical-align: top;\n",
       "    }\n",
       "\n",
       "    .dataframe thead th {\n",
       "        text-align: right;\n",
       "    }\n",
       "</style>\n",
       "<table border=\"1\" class=\"dataframe\">\n",
       "  <thead>\n",
       "    <tr style=\"text-align: right;\">\n",
       "      <th></th>\n",
       "      <th>Mouse ID</th>\n",
       "      <th>Timepoint</th>\n",
       "      <th>index</th>\n",
       "      <th>Drug Regimen</th>\n",
       "      <th>Sex</th>\n",
       "      <th>Age_months</th>\n",
       "      <th>Weight (g)</th>\n",
       "      <th>Tumour Volume (mm3)</th>\n",
       "      <th>Metastatic Sites</th>\n",
       "    </tr>\n",
       "  </thead>\n",
       "  <tbody>\n",
       "    <tr>\n",
       "      <th>0</th>\n",
       "      <td>a203</td>\n",
       "      <td>45</td>\n",
       "      <td>463</td>\n",
       "      <td>Infubinol</td>\n",
       "      <td>Female</td>\n",
       "      <td>20</td>\n",
       "      <td>23</td>\n",
       "      <td>67.973419</td>\n",
       "      <td>2</td>\n",
       "    </tr>\n",
       "    <tr>\n",
       "      <th>1</th>\n",
       "      <td>a251</td>\n",
       "      <td>45</td>\n",
       "      <td>473</td>\n",
       "      <td>Infubinol</td>\n",
       "      <td>Female</td>\n",
       "      <td>21</td>\n",
       "      <td>25</td>\n",
       "      <td>65.525743</td>\n",
       "      <td>1</td>\n",
       "    </tr>\n",
       "    <tr>\n",
       "      <th>2</th>\n",
       "      <td>a262</td>\n",
       "      <td>45</td>\n",
       "      <td>483</td>\n",
       "      <td>Placebo</td>\n",
       "      <td>Female</td>\n",
       "      <td>17</td>\n",
       "      <td>29</td>\n",
       "      <td>70.717621</td>\n",
       "      <td>4</td>\n",
       "    </tr>\n",
       "    <tr>\n",
       "      <th>3</th>\n",
       "      <td>a275</td>\n",
       "      <td>45</td>\n",
       "      <td>493</td>\n",
       "      <td>Ceftamin</td>\n",
       "      <td>Female</td>\n",
       "      <td>20</td>\n",
       "      <td>28</td>\n",
       "      <td>62.999356</td>\n",
       "      <td>3</td>\n",
       "    </tr>\n",
       "    <tr>\n",
       "      <th>4</th>\n",
       "      <td>a366</td>\n",
       "      <td>30</td>\n",
       "      <td>500</td>\n",
       "      <td>Stelasyn</td>\n",
       "      <td>Female</td>\n",
       "      <td>16</td>\n",
       "      <td>29</td>\n",
       "      <td>63.440686</td>\n",
       "      <td>1</td>\n",
       "    </tr>\n",
       "    <tr>\n",
       "      <th>...</th>\n",
       "      <td>...</td>\n",
       "      <td>...</td>\n",
       "      <td>...</td>\n",
       "      <td>...</td>\n",
       "      <td>...</td>\n",
       "      <td>...</td>\n",
       "      <td>...</td>\n",
       "      <td>...</td>\n",
       "      <td>...</td>\n",
       "    </tr>\n",
       "    <tr>\n",
       "      <th>244</th>\n",
       "      <td>z435</td>\n",
       "      <td>10</td>\n",
       "      <td>1862</td>\n",
       "      <td>Propriva</td>\n",
       "      <td>Female</td>\n",
       "      <td>12</td>\n",
       "      <td>26</td>\n",
       "      <td>48.710661</td>\n",
       "      <td>0</td>\n",
       "    </tr>\n",
       "    <tr>\n",
       "      <th>245</th>\n",
       "      <td>z578</td>\n",
       "      <td>45</td>\n",
       "      <td>84</td>\n",
       "      <td>Ramicane</td>\n",
       "      <td>Male</td>\n",
       "      <td>11</td>\n",
       "      <td>16</td>\n",
       "      <td>30.638696</td>\n",
       "      <td>0</td>\n",
       "    </tr>\n",
       "    <tr>\n",
       "      <th>246</th>\n",
       "      <td>z581</td>\n",
       "      <td>45</td>\n",
       "      <td>1872</td>\n",
       "      <td>Infubinol</td>\n",
       "      <td>Female</td>\n",
       "      <td>24</td>\n",
       "      <td>25</td>\n",
       "      <td>62.754451</td>\n",
       "      <td>3</td>\n",
       "    </tr>\n",
       "    <tr>\n",
       "      <th>247</th>\n",
       "      <td>z795</td>\n",
       "      <td>45</td>\n",
       "      <td>1882</td>\n",
       "      <td>Naftisol</td>\n",
       "      <td>Female</td>\n",
       "      <td>13</td>\n",
       "      <td>29</td>\n",
       "      <td>65.741070</td>\n",
       "      <td>3</td>\n",
       "    </tr>\n",
       "    <tr>\n",
       "      <th>248</th>\n",
       "      <td>z969</td>\n",
       "      <td>45</td>\n",
       "      <td>1892</td>\n",
       "      <td>Naftisol</td>\n",
       "      <td>Male</td>\n",
       "      <td>9</td>\n",
       "      <td>30</td>\n",
       "      <td>73.867845</td>\n",
       "      <td>4</td>\n",
       "    </tr>\n",
       "  </tbody>\n",
       "</table>\n",
       "<p>249 rows × 9 columns</p>\n",
       "</div>"
      ],
      "text/plain": [
       "    Mouse ID  Timepoint  index Drug Regimen     Sex  Age_months  Weight (g)  \\\n",
       "0       a203         45    463    Infubinol  Female          20          23   \n",
       "1       a251         45    473    Infubinol  Female          21          25   \n",
       "2       a262         45    483      Placebo  Female          17          29   \n",
       "3       a275         45    493     Ceftamin  Female          20          28   \n",
       "4       a366         30    500     Stelasyn  Female          16          29   \n",
       "..       ...        ...    ...          ...     ...         ...         ...   \n",
       "244     z435         10   1862     Propriva  Female          12          26   \n",
       "245     z578         45     84     Ramicane    Male          11          16   \n",
       "246     z581         45   1872    Infubinol  Female          24          25   \n",
       "247     z795         45   1882     Naftisol  Female          13          29   \n",
       "248     z969         45   1892     Naftisol    Male           9          30   \n",
       "\n",
       "     Tumour Volume (mm3)  Metastatic Sites  \n",
       "0              67.973419                 2  \n",
       "1              65.525743                 1  \n",
       "2              70.717621                 4  \n",
       "3              62.999356                 3  \n",
       "4              63.440686                 1  \n",
       "..                   ...               ...  \n",
       "244            48.710661                 0  \n",
       "245            30.638696                 0  \n",
       "246            62.754451                 3  \n",
       "247            65.741070                 3  \n",
       "248            73.867845                 4  \n",
       "\n",
       "[249 rows x 9 columns]"
      ]
     },
     "execution_count": 13,
     "metadata": {},
     "output_type": "execute_result"
    }
   ],
   "source": [
    "# Calculate the final tumor volume of each mouse across four of the treatment regimens:  \n",
    "# Capomulin, Ramicane, Infubinol, and Ceftamin\n",
    "\n",
    "# Start by getting the last (greatest) timepoint for each mouse\n",
    "last_timepoint = combined_mouse_and_study_df.groupby(['Mouse ID'])['Timepoint'].max()\n",
    "last_timepoint = last_timepoint.reset_index()\n",
    "\n",
    "# Merge this group df with the original dataframe to get the tumour volume at the last timepoint\n",
    "tumour_volme_at_last_timepoint_df = last_timepoint.merge(combined_mouse_and_study_df, on=(['Mouse ID','Timepoint']), how=\"left\")\n",
    "tumour_volme_at_last_timepoint_df"
   ]
  },
  {
   "cell_type": "code",
   "execution_count": 14,
   "metadata": {},
   "outputs": [
    {
     "name": "stdout",
     "output_type": "stream",
     "text": [
      "Capomulin's potential outliers: Series([], Name: Tumour Volume (mm3), dtype: float64)\n",
      "Ramicane's potential outliers: Series([], Name: Tumour Volume (mm3), dtype: float64)\n",
      "Infubinol's potential outliers: 31    36.321346\n",
      "Name: Tumour Volume (mm3), dtype: float64\n",
      "Ceftamin's potential outliers: Series([], Name: Tumour Volume (mm3), dtype: float64)\n"
     ]
    }
   ],
   "source": [
    "# Put treatments into a list for for loop (and later for plot labels)\n",
    "# Create empty list to fill with tumour vol data (for plotting)\n",
    "##please not I got this code with the help of an online tutor. I am still figuring it out so it is not complete. I have a feeling the code below is directly from the answers\n",
    "promising_drugs = [\"Capomulin\", \"Ramicane\", \"Infubinol\", \"Ceftamin\"]\n",
    "tumour_volume =[]\n",
    "for drug in promising_drugs:\n",
    "    final_tumour_vol = tumour_volme_at_last_timepoint_df.loc[tumour_volme_at_last_timepoint_df[\"Drug Regimen\"] == drug, \"Tumour Volume (mm3)\"]\n",
    "    tumour_volume.append(final_tumour_vol)\n",
    "\n",
    "\n",
    "\n",
    "# Calculate the IQR and quantitatively determine if there are any potential outliers. \n",
    "    quartiles = final_tumour_vol.quantile([0.25, 0.5, 0.75])\n",
    "    lowerq = quartiles[0.25]\n",
    "    upperq = quartiles[0.75]\n",
    "    iqr = upperq-lowerq\n",
    "    lower_bound = lowerq -(1.5*iqr)\n",
    "    upper_bound = upperq + (1.5*iqr)\n",
    "#     print(len(final_tumour_vol))\n",
    "    outliers = final_tumour_vol.loc[(final_tumour_vol < lower_bound) | (final_tumour_vol > upper_bound)]\n",
    "    print(f\"{drug}'s potential outliers: {outliers}\")\n",
    "\n",
    "    \n",
    "    # Locate the rows which contain mice on each drug and get the tumour volumes\n",
    "    \n",
    "    \n",
    "    # add subset \n",
    "    \n",
    "    \n",
    "    # Determine outliers using upper and lower bounds\n",
    "    "
   ]
  },
  {
   "cell_type": "markdown",
   "metadata": {},
   "source": [
    "## Line and Scatter Plots"
   ]
  },
  {
   "cell_type": "code",
   "execution_count": 15,
   "metadata": {},
   "outputs": [
    {
     "data": {
      "image/png": "[encoded data removed]",
      "text/plain": [
       "<Figure size 432x288 with 1 Axes>"
      ]
     },
     "metadata": {
      "needs_background": "light"
     },
     "output_type": "display_data"
    }
   ],
   "source": [
    "# Generate a line plot of tumour volume vs. time point for a mouse treated with Capomulin\n",
    "g989_mouse_id = combined_mouse_and_study_df.loc[combined_mouse_and_study_df[\"Mouse ID\"] == \"g989\"]\n",
    "\n",
    "\n",
    "plt.plot(g989_mouse_id[\"Timepoint\"],g989_mouse_id[\"Tumour Volume (mm3)\"])\n",
    "# plt.title(\"tumour volume v timeplot for Capomulin\")\n",
    "plt.xlabel(\"Timepoint\")\n",
    "plt.ylabel(\"tumour volume\")\n",
    "plt.show()"
   ]
  },
  {
   "cell_type": "code",
   "execution_count": 16,
   "metadata": {},
   "outputs": [
    {
     "data": {
      "text/plain": [
       "Text(0, 0.5, 'Tumour volume')"
      ]
     },
     "execution_count": 16,
     "metadata": {},
     "output_type": "execute_result"
    },
    {
     "data": {
      "image/png": "[encoded data removed]",
      "text/plain": [
       "<Figure size 432x288 with 1 Axes>"
      ]
     },
     "metadata": {
      "needs_background": "light"
     },
     "output_type": "display_data"
    }
   ],
   "source": [
    "# Generate a scatter plot of average tumour volume vs. mouse weight for the Capomulin regimen\n",
    "plt.scatter(combined_mouse_and_study_df[\"Weight (g)\"], combined_mouse_and_study_df[\"Tumour Volume (mm3)\"])\n",
    "plt.title=\"tumour voume vs weight\"\n",
    "plt.xlabel(\"Weight\")\n",
    "plt.ylabel(\"Tumour volume\")"
   ]
  },
  {
   "cell_type": "markdown",
   "metadata": {},
   "source": [
    "## Correlation and Regression"
   ]
  },
  {
   "cell_type": "code",
   "execution_count": 17,
   "metadata": {},
   "outputs": [
    {
     "name": "stdout",
     "output_type": "stream",
     "text": [
      "The correlation between weight and volume is 0.53\n"
     ]
    }
   ],
   "source": [
    "# Calculate the correlation coefficient and linear regression model \n",
    "# for mouse weight and average tumour volume for the Capomulin regimen\n",
    "capomulin_weight_volume = combined_mouse_and_study_df.loc[combined_mouse_and_study_df[\"Drug Regimen\"] == \"Capomulin\"]\n",
    "correlation_linear_weight = capomulin_weight_volume.iloc[:,5]\n",
    "correlation_linear_volume = capomulin_weight_volume.iloc[:,7]\n",
    "correlation = st.pearsonr(correlation_linear_weight, correlation_linear_volume)\n",
    "print(f\"The correlation between weight and volume is {round(correlation[0],2)}\")"
   ]
  },
  {
   "cell_type": "code",
   "execution_count": 18,
   "metadata": {},
   "outputs": [
    {
     "data": {
      "text/plain": [
       "<function matplotlib.pyplot.show(*args, **kw)>"
      ]
     },
     "execution_count": 18,
     "metadata": {},
     "output_type": "execute_result"
    },
    {
     "data": {
      "image/png": "[encoded data removed]",
      "text/plain": [
       "<Figure size 432x288 with 1 Axes>"
      ]
     },
     "metadata": {
      "needs_background": "light"
     },
     "output_type": "display_data"
    }
   ],
   "source": [
    "#linear regression\n",
    "(slope, intercept, rvalue, pvalue, stderr) = st.linregress(correlation_linear_weight, correlation_linear_volume)\n",
    "regress_values = correlation_linear_weight * slope + intercept\n",
    "line_eq = \"y = \" + str(round(slope,2)) + \"x +\" + str(round(intercept,2))\n",
    "plt.scatter(correlation_linear_weight, correlation_linear_volume)\n",
    "plt.plot(correlation_linear_weight, regress_values)\n",
    "plt.annotate(line_eq,(0,50),fontsize=15, color=\"red\")\n",
    "plt.xlabel(\"weight of the mice\")\n",
    "plt.ylabel(\"Tumour volume mm3\")\n",
    "plt.show"
   ]
  },
  {
   "cell_type": "code",
   "execution_count": null,
   "metadata": {},
   "outputs": [],
   "source": []
  },
  {
   "cell_type": "code",
   "execution_count": null,
   "metadata": {},
   "outputs": [],
   "source": []
  }
 ],
 "metadata": {
  "anaconda-cloud": {},
  "kernelspec": {
   "display_name": "Python [conda env:PythonData] *",
   "language": "python",
   "name": "conda-env-PythonData-py"
  },
  "language_info": {
   "codemirror_mode": {
    "name": "ipython",
    "version": 3
   },
   "file_extension": ".py",
   "mimetype": "text/x-python",
   "name": "python",
   "nbconvert_exporter": "python",
   "pygments_lexer": "ipython3",
   "version": "3.7.7"
  }
 },
 "nbformat": 4,
 "nbformat_minor": 4
}
